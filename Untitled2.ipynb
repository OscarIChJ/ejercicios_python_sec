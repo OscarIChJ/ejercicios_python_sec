{
  "nbformat": 4,
  "nbformat_minor": 0,
  "metadata": {
    "colab": {
      "provenance": [],
      "authorship_tag": "ABX9TyNeWoC6pJwJrIF5pPBXETPD",
      "include_colab_link": true
    },
    "kernelspec": {
      "name": "python3",
      "display_name": "Python 3"
    },
    "language_info": {
      "name": "python"
    }
  },
  "cells": [
    {
      "cell_type": "markdown",
      "metadata": {
        "id": "view-in-github",
        "colab_type": "text"
      },
      "source": [
        "<a href=\"https://colab.research.google.com/github/OscarIChJ/ejercicios_python_sec/blob/main/Untitled2.ipynb\" target=\"_parent\"><img src=\"https://colab.research.google.com/assets/colab-badge.svg\" alt=\"Open In Colab\"/></a>"
      ]
    },
    {
      "cell_type": "code",
      "execution_count": 5,
      "metadata": {
        "colab": {
          "base_uri": "https://localhost:8080/"
        },
        "id": "MosRKSTJP0bd",
        "outputId": "f0ffc89d-9d62-4bf6-ea9b-76022f4def19"
      },
      "outputs": [
        {
          "output_type": "stream",
          "name": "stdout",
          "text": [
            "Ingrese un numero5\n",
            "la suma de los numeros pares es  6\n"
          ]
        }
      ],
      "source": [
        "num = int(input(\"Ingrese un numero\"))\n",
        "i = 1\n",
        "suma = 0\n",
        "while i<= num:\n",
        "  if i % 2 == 0:\n",
        "    suma = suma + i\n",
        "  i = i + 1\n",
        "print(\"la suma de los numeros pares es \", suma)"
      ]
    },
    {
      "cell_type": "code",
      "source": [
        "num = int(input(\"ingrese un numero\"))\n",
        "i = 0\n",
        "while i<= 10:\n",
        "  print(num,\"x\", i, \" = \",(num*i))\n",
        "  i = i + 1\n",
        "\n",
        "\n"
      ],
      "metadata": {
        "colab": {
          "base_uri": "https://localhost:8080/"
        },
        "id": "Dn-03dmJSpXr",
        "outputId": "e6f23c37-d76f-498d-a98f-10bc6933cf2d"
      },
      "execution_count": 24,
      "outputs": [
        {
          "output_type": "stream",
          "name": "stdout",
          "text": [
            "ingrese un numero550\n",
            "550 x 0  =  0\n",
            "550 x 1  =  550\n",
            "550 x 2  =  1100\n",
            "550 x 3  =  1650\n",
            "550 x 4  =  2200\n",
            "550 x 5  =  2750\n",
            "550 x 6  =  3300\n",
            "550 x 7  =  3850\n",
            "550 x 8  =  4400\n",
            "550 x 9  =  4950\n",
            "550 x 10  =  5500\n"
          ]
        }
      ]
    },
    {
      "cell_type": "code",
      "source": [
        "base = int(input(\" ingrese un numero\"))\n",
        "exp = int(input(\"ingrese un exponente \"))\n",
        "if exp == 0:\n",
        "  print(1)\n",
        "else:\n",
        "   i = 1\n",
        "resultado = base\n",
        "while i <= exp:\n",
        "  reultado = resultado * base\n",
        "  i = i + 1\n",
        "print(resultado)"
      ],
      "metadata": {
        "colab": {
          "base_uri": "https://localhost:8080/"
        },
        "id": "AO27xe_qdau3",
        "outputId": "e0003895-2643-4179-edf0-6136d7484104"
      },
      "execution_count": 32,
      "outputs": [
        {
          "output_type": "stream",
          "name": "stdout",
          "text": [
            " ingrese un numero2\n",
            "ingrese un exponente 0\n",
            "1\n",
            "2\n"
          ]
        }
      ]
    },
    {
      "cell_type": "code",
      "source": [],
      "metadata": {
        "id": "7PAeHI_Hawfh"
      },
      "execution_count": null,
      "outputs": []
    }
  ]
}