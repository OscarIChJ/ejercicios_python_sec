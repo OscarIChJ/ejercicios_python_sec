{
  "nbformat": 4,
  "nbformat_minor": 0,
  "metadata": {
    "colab": {
      "provenance": [],
      "authorship_tag": "ABX9TyNd4tncJ0pRKhdvlux71b9n",
      "include_colab_link": true
    },
    "kernelspec": {
      "name": "python3",
      "display_name": "Python 3"
    },
    "language_info": {
      "name": "python"
    }
  },
  "cells": [
    {
      "cell_type": "markdown",
      "metadata": {
        "id": "view-in-github",
        "colab_type": "text"
      },
      "source": [
        "<a href=\"https://colab.research.google.com/github/OscarIChJ/ejercicios_python_sec/blob/main/Ejercicios.ipynb\" target=\"_parent\"><img src=\"https://colab.research.google.com/assets/colab-badge.svg\" alt=\"Open In Colab\"/></a>"
      ]
    },
    {
      "cell_type": "code",
      "execution_count": 3,
      "metadata": {
        "id": "5ODH72yvcMFC",
        "outputId": "7d18e0aa-c247-450b-f396-b036146e48c6",
        "colab": {
          "base_uri": "https://localhost:8080/"
        }
      },
      "outputs": [
        {
          "output_type": "stream",
          "name": "stdout",
          "text": [
            "escriba su nombreoscar\n",
            "cual es tu edad?22\n",
            "Hola, oscar\n",
            "tienes 22 años\n"
          ]
        }
      ],
      "source": [
        "name = input(\"escriba su nombre\")\n",
        "age = int(input(\"cual es tu edad?\"))\n",
        "print(\"Hola,\", name)\n",
        "print(\"tienes\", str(age),\"años\")"
      ]
    },
    {
      "cell_type": "markdown",
      "source": [
        "\n",
        "##Ejercicios Calcular el area de un rectangulo\n",
        "\n",
        "\n",
        "A= b*h"
      ],
      "metadata": {
        "id": "oOLR8bc-j2hA"
      }
    },
    {
      "cell_type": "code",
      "source": [
        "print(\"programa para calcular el area de un rectangulo\")\n",
        "b = float(input( \"Ingrese la base (m):\"))\n",
        "h = float(input(\"Ingrese la altura (m):\"))\n",
        "A = b*h\n",
        "print(\"el area de un rectangulo con base\", str(b),\"(m) y altura\", str(h),\"(m) es\", str(A),\"m2\")\n"
      ],
      "metadata": {
        "colab": {
          "base_uri": "https://localhost:8080/"
        },
        "id": "uebdj7_zfY2y",
        "outputId": "10bf2d09-0885-4656-9376-63df0ff4c158"
      },
      "execution_count": 14,
      "outputs": [
        {
          "output_type": "stream",
          "name": "stdout",
          "text": [
            "programa para calcular el area de un rectangulo\n",
            "Ingrese la base (m):19\n",
            "Ingrese la altura (m):10\n",
            "el area de un rectangulo con base 19.0 (m) y altura 10.0 (m) es 190.0 m2\n"
          ]
        }
      ]
    },
    {
      "cell_type": "markdown",
      "source": [
        "##"
      ],
      "metadata": {
        "id": "wMYBLP4zks--"
      }
    },
    {
      "cell_type": "markdown",
      "source": [
        "\n",
        "##Ejercicios Calcular el area de un triangulo\n",
        "\n",
        "\n",
        "A= b*h"
      ],
      "metadata": {
        "id": "AI7sOr-1k1O4"
      }
    },
    {
      "cell_type": "code",
      "source": [],
      "metadata": {
        "id": "lqo_mlONhhcC"
      },
      "execution_count": null,
      "outputs": []
    },
    {
      "cell_type": "code",
      "source": [
        "print(\"programa para calcular el area de un triangulo\")\n",
        "b = float(input( \"Ingrese la base (m):\"))\n",
        "h = float(input(\"Ingrese la altura (m):\"))\n",
        "A = b*h / 2\n",
        "print(\"el area de un triangulo con base\", str(b),\"(m) y altura\", str(h),\"(m) es\", str(A),\"m2\")\n",
        "\n"
      ],
      "metadata": {
        "outputId": "2a128337-f53e-4d99-ad99-2b666a02f604",
        "colab": {
          "base_uri": "https://localhost:8080/"
        },
        "id": "gfaIVhlKlCt4"
      },
      "execution_count": 17,
      "outputs": [
        {
          "output_type": "stream",
          "name": "stdout",
          "text": [
            "programa para calcular el area de un triangulo\n",
            "Ingrese la base (m):8\n",
            "Ingrese la altura (m):6\n",
            "el area de un triangulo con base 8.0 (m) y altura 6.0 (m) es 24.0 m2\n"
          ]
        }
      ]
    },
    {
      "cell_type": "markdown",
      "source": [],
      "metadata": {
        "id": "dZ70GySPlYpM"
      }
    },
    {
      "cell_type": "code",
      "source": [],
      "metadata": {
        "id": "pIAwIwdblZ3R"
      },
      "execution_count": null,
      "outputs": []
    },
    {
      "cell_type": "markdown",
      "source": [
        "##Ejercicios 4 : voltaje instantaneo\n"
      ],
      "metadata": {
        "id": "4TWxrGpMlacO"
      }
    },
    {
      "cell_type": "code",
      "source": [
        "import math\n",
        "print(\"programa para calcular el voltaje instantaneo.\")\n",
        "v = float(input(\"ingrese la amplitud (v):\"))\n",
        "F = float(input(\"ingrese la frecuencia (Hz):\"))"
      ],
      "metadata": {
        "id": "vxSvIIyblaxX"
      },
      "execution_count": null,
      "outputs": []
    }
  ]
}